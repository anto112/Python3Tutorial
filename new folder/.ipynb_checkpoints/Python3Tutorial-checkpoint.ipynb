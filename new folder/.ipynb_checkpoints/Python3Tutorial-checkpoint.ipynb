{
 "cells": [
  {
   "cell_type": "markdown",
   "metadata": {
    "slideshow": {
     "slide_type": "slide"
    }
   },
   "source": [
    "<font color='green'><h1><center>EASY LEARN PYTHON 3</center></h1></font>"
   ]
  },
  {
   "cell_type": "markdown",
   "metadata": {},
   "source": [
    "__Welcome to Python!__"
   ]
  },
  {
   "cell_type": "markdown",
   "metadata": {
    "hide_input": true
   },
   "source": [
    "This notebook was compiled by <font color='blue'>_haryanto_</font> to help you more easily understand the basics of <font color='blue'>*python 3*</font> programing language, hope you enjoy the lesson !!!! "
   ]
  },
  {
   "cell_type": "markdown",
   "metadata": {},
   "source": [
    "### 1. Overview"
   ]
  },
  {
   "cell_type": "markdown",
   "metadata": {},
   "source": [
    "<img src='logo.png'>\n",
    "<center>Figure 1. Python logo</center>"
   ]
  },
  {
   "cell_type": "markdown",
   "metadata": {
    "slideshow": {
     "slide_type": "skip"
    },
    "tags": [
     "aegtqhy"
    ]
   },
   "source": [
    "Python is a high-level, interpreted, interactive and object-oriented scripting language. Python is designed to be highly readable. It uses English keywords frequently whereas the other languages use punctuations. It has fewer syntactical constructions than other languages.\n",
    "\n",
    "* *Python is Interpreted* − Python is processed at runtime by the interpreter\n",
    "\n",
    "* *Python is Interactive* − You can actually sit at a Python prompt and interact with the interpreter directly to write your programs.\n",
    "\n",
    "* *Python is Object-Oriented* − Python supports Object-Oriented style or technique of programming that encapsulates code within objects.\n",
    "\n",
    "* *Python is a Beginner's Language* − Python is a great language for the beginner-level programmers\n",
    "\n",
    "**Python Features**\n",
    "\n",
    "Python's features include :\n",
    "\n",
    "* *Easy-to-learn* − Python has few keywords, simple structure, and a clearly defined syntax\n",
    "\n",
    "* *Easy-to-read* − Python code is more clearly defined and visible to the eyes.\n",
    "\n",
    "* *Easy-to-maintain* − Python's source code is fairly easy-to-maintain.\n",
    "\n",
    "* *A broad standard library* − Python's bulk of the library is very portable and cross-platform compatible on UNIX, Windows, and Macintosh.\n",
    "\n",
    "* *Interactive Mode* − Python has support for an interactive mode which allows interactive testing and debugging of snippets of code.\n",
    "\n",
    "* *Portable* − Python can run on a wide variety of hardware platforms and has the same interface on all platforms.\n",
    "\n",
    "* *Extendable* − You can add low-level modules to the Python interpreter. These modules enable programmers to add to or customize their tools to be more efficient.\n",
    "\n",
    "* *Databases* − Python provides interfaces to all major commercial databases.\n",
    "\n",
    "* *GUI Programming* − Python supports GUI applications that can be created and ported to many system calls, libraries and windows systems, such as Windows MFC, Macintosh, and the X Window system of Unix.\n",
    "\n",
    "* *Scalable* − Python provides a better structure and support for large programs than shell scripting.\n",
    "\n",
    "Python is a high-level programming language, with applications in numerous areas, including _web programming_, _scripting_, _scientific computing_, and _artificial intelligence_.\n",
    "\n",
    "* Python code is usually stored in text files with the file ending \"`.py`\":\n",
    "```\n",
    "myprogram.py\n",
    "```\n",
    "\n",
    "* Every line in a Python program file is assumed to be a Python statement, or part there of. \n",
    "\n",
    "    * The only exception is comment lines, which start with the character `#` (optionally preceded by an arbitrary number of white-space characters, i.e., tabs or spaces). Comment lines are usually ignored by the Python interpreter.\n",
    "\n",
    "\n",
    "* To run our Python program from the command line we use:\n",
    "```\n",
    "$ python myprogram.py\n",
    "```\n",
    "\n",
    "* On UNIX systems it is common to define the path to the interpreter on the first line of the program (note that this is a comment line as far as the Python interpreter is concerned):\n",
    "```\n",
    "#!/usr/bin/env python\n",
    "```\n",
    "  If we do, and if we additionally set the file script to be executable, we can run the program like this:\n",
    "```\n",
    "$ myprogram.py\n",
    "```"
   ]
  },
  {
   "cell_type": "markdown",
   "metadata": {},
   "source": [
    "See the first python program :"
   ]
  },
  {
   "cell_type": "code",
   "execution_count": 1,
   "metadata": {},
   "outputs": [
    {
     "name": "stdout",
     "output_type": "stream",
     "text": [
      "Hello word\n"
     ]
    }
   ],
   "source": [
    "print (\"Hello word\")"
   ]
  },
  {
   "cell_type": "markdown",
   "metadata": {},
   "source": [
    "Python Identifiers\n",
    "\n",
    "A Python identifier is a name used to identify a variable, function, class, module or other object. An identifier starts with a letter A to Z or a to z or an underscore ```(_)``` followed by zero or more letters, underscores and digits (0 to 9).\n",
    "\n",
    "Python does not allow punctuation characters such as `@`, `$`, and `%`within identifiers. Python is a case sensitive programming language. Thus, Manpower and manpower are two different identifiers in Python.\n",
    "\n",
    "Here are naming conventions for Python identifiers:\n",
    "\n",
    "* Class names start with an uppercase letter. All other identifiers start with a lowercase letter.\n",
    "* Starting an identifier with a single leading underscore indicates that the identifier is private.\n",
    "* Starting an identifier with two leading underscores indicates a strong private identifier.\n",
    "* If the identifier also ends with two trailing underscores, the identifier is a language-defined special name."
   ]
  },
  {
   "cell_type": "markdown",
   "metadata": {},
   "source": [
    "### 2. Python Syntax"
   ]
  },
  {
   "cell_type": "code",
   "execution_count": null,
   "metadata": {},
   "outputs": [],
   "source": []
  },
  {
   "cell_type": "code",
   "execution_count": 4,
   "metadata": {},
   "outputs": [],
   "source": [
    "# %lsmagic"
   ]
  },
  {
   "cell_type": "markdown",
   "metadata": {},
   "source": []
  },
  {
   "cell_type": "markdown",
   "metadata": {
    "slideshow": {
     "slide_type": "slide"
    }
   },
   "source": [
    "### 3. Variables and types"
   ]
  },
  {
   "cell_type": "markdown",
   "metadata": {},
   "source": [
    "__Symbol names__\n",
    "\n",
    "Variable names in Python can contain alphanumerical characters `a-z`, `A-Z`, `0-9` and some special characters such as `_`. Normal variable names must start with a letter. \n",
    "\n",
    "By convention, variable names start with a lower-case letter, and Class names start with a capital letter. \n",
    "\n",
    "In addition, there are a number of Python keywords that cannot be used as variable names. These keywords are:\n",
    "\n",
    "    and, as, assert, break, class, continue, def, del, elif, else, except, \n",
    "    exec, finally, for, from, global, if, import, in, is, lambda, not, or,\n",
    "    pass, print, raise, return, try, while, with, yield\n",
    "\n",
    "Note: Be aware of the keyword `lambda`, which could easily be a natural variable name in a scientific program. But being a keyword, it cannot be used as a variable name.\n",
    "\n",
    "__Assigning Values to Variables__\n",
    "\n",
    "Python variables do not need explicit declaration to reserve memory space. The declaration happens automatically when you assign a value to a variable. The equal sign `(=)` is used to assign values to variables [[ 1 ]](https://www.tutorialspoint.com/python3/python_variable_types.htm)."
   ]
  },
  {
   "cell_type": "markdown",
   "metadata": {},
   "source": []
  },
  {
   "cell_type": "code",
   "execution_count": null,
   "metadata": {},
   "outputs": [],
   "source": []
  },
  {
   "cell_type": "markdown",
   "metadata": {
    "heading_collapsed": true
   },
   "source": [
    "### 4.  Numbers, Casting, Strings"
   ]
  },
  {
   "cell_type": "code",
   "execution_count": null,
   "metadata": {
    "hidden": true
   },
   "outputs": [],
   "source": []
  },
  {
   "cell_type": "code",
   "execution_count": null,
   "metadata": {
    "hidden": true
   },
   "outputs": [],
   "source": []
  },
  {
   "cell_type": "code",
   "execution_count": null,
   "metadata": {
    "hidden": true
   },
   "outputs": [],
   "source": []
  },
  {
   "cell_type": "markdown",
   "metadata": {},
   "source": [
    "### 5. List"
   ]
  },
  {
   "cell_type": "markdown",
   "metadata": {},
   "source": [
    "The list is the most versatile datatype available in Python, which can be written as a list of comma-separated values (items) between square brackets. Important thing about a list is that the items in a list need not be of the same type.\n",
    "Creating a list is as simple as putting different comma-separated values between square brackets. \n",
    "Similar to string indices, list indices start at 0, and lists can be sliced, concatenated and so on."
   ]
  },
  {
   "cell_type": "code",
   "execution_count": null,
   "metadata": {},
   "outputs": [],
   "source": [
    "list1 = ['physics', 'chemistry', 1997, 2000];\n",
    "list2 = [1, 2, 3, 4, 5 ];\n",
    "list3 = [\"a\", \"b\", \"c\", \"d\"];"
   ]
  },
  {
   "cell_type": "markdown",
   "metadata": {},
   "source": [
    "#### Accessing Values in Lists"
   ]
  },
  {
   "cell_type": "code",
   "execution_count": null,
   "metadata": {},
   "outputs": [],
   "source": []
  },
  {
   "cell_type": "markdown",
   "metadata": {
    "heading_collapsed": true
   },
   "source": [
    "### 6. Tuples"
   ]
  },
  {
   "cell_type": "code",
   "execution_count": null,
   "metadata": {
    "hidden": true
   },
   "outputs": [],
   "source": []
  },
  {
   "cell_type": "code",
   "execution_count": null,
   "metadata": {
    "hidden": true
   },
   "outputs": [],
   "source": []
  },
  {
   "cell_type": "code",
   "execution_count": null,
   "metadata": {
    "hidden": true
   },
   "outputs": [],
   "source": []
  },
  {
   "cell_type": "markdown",
   "metadata": {
    "heading_collapsed": true
   },
   "source": [
    "### 7. Sets"
   ]
  },
  {
   "cell_type": "code",
   "execution_count": 3,
   "metadata": {
    "hidden": true
   },
   "outputs": [
    {
     "name": "stdout",
     "output_type": "stream",
     "text": [
      "banana\n",
      "cherry\n",
      "apple\n"
     ]
    }
   ],
   "source": [
    "thisset = {\"apple\", \"banana\", \"cherry\"}\n",
    "\n",
    "for x in thisset:\n",
    "  print(x)"
   ]
  },
  {
   "cell_type": "markdown",
   "metadata": {
    "heading_collapsed": true
   },
   "source": [
    "### 8. Dictionary"
   ]
  },
  {
   "cell_type": "code",
   "execution_count": null,
   "metadata": {
    "hidden": true
   },
   "outputs": [],
   "source": []
  },
  {
   "cell_type": "code",
   "execution_count": null,
   "metadata": {
    "hidden": true
   },
   "outputs": [],
   "source": []
  },
  {
   "cell_type": "code",
   "execution_count": null,
   "metadata": {
    "hidden": true
   },
   "outputs": [],
   "source": []
  },
  {
   "cell_type": "markdown",
   "metadata": {
    "heading_collapsed": true
   },
   "source": [
    "### 9. Loops"
   ]
  },
  {
   "cell_type": "code",
   "execution_count": null,
   "metadata": {
    "hidden": true
   },
   "outputs": [],
   "source": []
  },
  {
   "cell_type": "markdown",
   "metadata": {
    "heading_collapsed": true
   },
   "source": [
    "### 10. Functions"
   ]
  },
  {
   "cell_type": "code",
   "execution_count": null,
   "metadata": {
    "hidden": true
   },
   "outputs": [],
   "source": []
  },
  {
   "cell_type": "markdown",
   "metadata": {
    "heading_collapsed": true
   },
   "source": [
    "### 11. Modules"
   ]
  },
  {
   "cell_type": "code",
   "execution_count": null,
   "metadata": {
    "hidden": true
   },
   "outputs": [],
   "source": []
  },
  {
   "cell_type": "markdown",
   "metadata": {
    "heading_collapsed": true
   },
   "source": [
    "### 12. Files I/O"
   ]
  },
  {
   "cell_type": "code",
   "execution_count": null,
   "metadata": {
    "hidden": true
   },
   "outputs": [],
   "source": []
  },
  {
   "cell_type": "markdown",
   "metadata": {
    "heading_collapsed": true
   },
   "source": [
    "### 13. Exeptions"
   ]
  },
  {
   "cell_type": "markdown",
   "metadata": {
    "hidden": true
   },
   "source": [
    "An exception is an event, which occurs during the execution of a program that disrupts the normal flow of the program's instructions. In general, when a Python script encounters a situation that it cannot cope with, it raises an exception. An exception is a Python object that represents an error.\n",
    "\n",
    "When a Python script raises an exception, it must either handle the exception immediately otherwise it terminates and quits.\n",
    "\n",
    "**Handling an exception**\n",
    "\n",
    "* If you have some *suspicious* code that may raise an exception, you can defend your program by placing the suspicious code in a **try**: block. After the try: block, include an **except**: statement, followed by a block of code which handles the problem as elegantly as possible"
   ]
  },
  {
   "cell_type": "code",
   "execution_count": 17,
   "metadata": {
    "hidden": true,
    "hide_input": false
   },
   "outputs": [
    {
     "name": "stdout",
     "output_type": "stream",
     "text": [
      "Written content in the file successfully\n",
      "Wall time: 7 ms\n"
     ]
    }
   ],
   "source": [
    "%%time\n",
    "try:\n",
    "   fh = open(\"testfile\", \"w\")\n",
    "   fh.write(\"This is my test file for exception handling!!\")\n",
    "except IOError:\n",
    "   print (\"Error: can\\'t find file or read data\")\n",
    "else:\n",
    "   print (\"Written content in the file successfully\")\n",
    "   fh.close()"
   ]
  },
  {
   "cell_type": "code",
   "execution_count": null,
   "metadata": {
    "hidden": true
   },
   "outputs": [],
   "source": []
  },
  {
   "cell_type": "markdown",
   "metadata": {
    "heading_collapsed": true
   },
   "source": [
    "### 14. Object Oriented Programing (OOP)"
   ]
  },
  {
   "cell_type": "markdown",
   "metadata": {
    "hidden": true
   },
   "source": [
    "**class variable**"
   ]
  },
  {
   "cell_type": "code",
   "execution_count": null,
   "metadata": {
    "hidden": true
   },
   "outputs": [],
   "source": [
    "#class variable\n",
    "class Student:\n",
    "\tName=\"Haryanto\"\n",
    "\tStudentID =\"M07158031\"\n",
    "\tAge=23\n",
    "\n",
    "student=Student()\n",
    "print(student.Name)\n",
    "print(student.StudentID)\n",
    "print(Student.Age)"
   ]
  },
  {
   "cell_type": "markdown",
   "metadata": {
    "hidden": true
   },
   "source": [
    "**instant variable**"
   ]
  },
  {
   "cell_type": "code",
   "execution_count": 16,
   "metadata": {
    "hidden": true,
    "hide_input": false
   },
   "outputs": [
    {
     "name": "stdout",
     "output_type": "stream",
     "text": [
      "Haryanto\n",
      "M07158031\n"
     ]
    }
   ],
   "source": [
    "class Student:\n",
    "    def __init__(self, Name,studentID,age):\n",
    "        self.name = Name\n",
    "        self.studentID=studentID\n",
    "        self.age = age\n",
    "\n",
    "new_student = Student(\"Haryanto\", \"M07158031\",23)\n",
    "print(new_student.name)\n",
    "print(new_student.studentID)"
   ]
  },
  {
   "cell_type": "code",
   "execution_count": null,
   "metadata": {
    "hidden": true,
    "hide_input": false
   },
   "outputs": [],
   "source": [
    "#classvariable and instance variable combine together\n",
    "class Student:\n",
    "\tName = \"\"\n",
    "\tStudentID = \"\"\n",
    "\tAge =0\n",
    "\n",
    "\tdef __init__(self,Name,StudentID,Age):\n",
    "\t\tself.Name=Name\n",
    "\t\tself.StudentID=StudentID\n",
    "\t\tself.Age=Age\n",
    "\n",
    "\tdef show_name(self):\n",
    "\t\tprint(self.Name)\n",
    "\tdef show_StudentID(self):\n",
    "\t\tprint(self.StudentID)\n",
    "\tdef show_Age(self):\n",
    "\t\tprint(self.Age)\n",
    "\n",
    "student1=Student(\"Haryanto\",\"M07158031\",23)\n",
    "student2=Student(\"Adam\",\"M06xxxxx\",24)\n",
    "student3=Student(\"YenHau\",\"M04xxxxx\",26)\n",
    "student4=Student(\"shivani\",\"M07xxxxx\",24)\n",
    "\n",
    "student1.show_name()\n",
    "student2.show_name()\n",
    "student3.show_StudentID()\n"
   ]
  },
  {
   "cell_type": "code",
   "execution_count": null,
   "metadata": {
    "hidden": true
   },
   "outputs": [],
   "source": [
    "#inharatance class\n",
    "class Person:  \n",
    "    name = \"\"  \n",
    "    age = 0  \n",
    "  \n",
    "    def __init__(self, StudentName, Gender, Age):  \n",
    "        self.name = StudentName \n",
    "        self.Gender=Gender \n",
    "        self.age = Age  \n",
    "          \n",
    "    def showName(self):  \n",
    "        print(self.name)  \n",
    "\n",
    "    def showStudentId(self):\n",
    "    \tprint(self.Gender)\n",
    "  \n",
    "    def showAge(self):  \n",
    "        print(self.age)  \n",
    "\n",
    "class Student(Person):\n",
    "\n",
    "    studentId = \"\"  \n",
    "  \n",
    "    def __init__(self, studentName, studentAge, Gender, studentId):  \n",
    "        Person.__init__(self, studentName, Gender, studentAge)  \n",
    "        self.studentId = studentId  \n",
    "  \n",
    "    def Show_Id(self):  \n",
    "        return self.studentId  \n",
    "\n",
    "person1 = Person(\"Andi\", \"Male\",23)  \n",
    "person1.showAge()  \n",
    "person1.showName()\n",
    "student1 = Student(\"Haryanto\",\"male\", 23, \"M07158031\") \n",
    "print(student1.Show_Id())  \n",
    "student1.showName()  "
   ]
  },
  {
   "cell_type": "markdown",
   "metadata": {
    "heading_collapsed": true
   },
   "source": [
    "### 15. Library"
   ]
  },
  {
   "cell_type": "markdown",
   "metadata": {
    "hidden": true
   },
   "source": [
    "Python library is a collection of functions and methods that allows you to perform many actions without writing your code. Please visit this link to more information about [Library](https://www.evernote.com/shard/s266/sh/38c21a1d-c8b8-40fd-8ba3-9e2b773d2004/6909f2b502b4794069cfe180aaf2e237)"
   ]
  },
  {
   "cell_type": "code",
   "execution_count": null,
   "metadata": {
    "hidden": true
   },
   "outputs": [],
   "source": []
  },
  {
   "cell_type": "code",
   "execution_count": null,
   "metadata": {
    "hidden": true
   },
   "outputs": [],
   "source": []
  },
  {
   "cell_type": "markdown",
   "metadata": {
    "heading_collapsed": true
   },
   "source": [
    "### 16. GUI Python (Tkinter)"
   ]
  },
  {
   "cell_type": "code",
   "execution_count": null,
   "metadata": {
    "hidden": true
   },
   "outputs": [],
   "source": []
  },
  {
   "cell_type": "code",
   "execution_count": null,
   "metadata": {
    "hidden": true
   },
   "outputs": [],
   "source": []
  },
  {
   "cell_type": "code",
   "execution_count": null,
   "metadata": {
    "hidden": true
   },
   "outputs": [],
   "source": []
  },
  {
   "cell_type": "markdown",
   "metadata": {
    "heading_collapsed": true
   },
   "source": [
    "### Extra From this NoteBook"
   ]
  },
  {
   "cell_type": "markdown",
   "metadata": {
    "hidden": true
   },
   "source": [
    "**%%writefile**"
   ]
  },
  {
   "cell_type": "markdown",
   "metadata": {
    "hidden": true
   },
   "source": [
    "**%time**"
   ]
  },
  {
   "cell_type": "markdown",
   "metadata": {
    "hidden": true
   },
   "source": [
    "**%run**"
   ]
  },
  {
   "cell_type": "markdown",
   "metadata": {
    "hidden": true
   },
   "source": [
    "**%load**"
   ]
  },
  {
   "cell_type": "markdown",
   "metadata": {
    "heading_collapsed": true,
    "slideshow": {
     "slide_type": "slide"
    }
   },
   "source": [
    "### Reference"
   ]
  },
  {
   "cell_type": "markdown",
   "metadata": {
    "hidden": true
   },
   "source": [
    "* <a href=\"http://www.python.org\" target=\"_blank/\">[ 1 ]</a>. The official web page of the Python programming language.\n",
    "* <a href=\"http://www.python.org/dev/peps/pep-0008 \" target=\"_blank/\">[ 2 ]</a>. Style guide for Python programming.\n",
    "* <a href=\"http://www.greenteapress.com/thinkpython/\" target=\"_blank/\">[ 3 ]</a>. A free book on Python programming.\n",
    "* <a href=\"http://localhost:8888/notebooks/Desktop/Python3Tutorial/new%20folder/SettingENVSJupyter.ipynb\" target=\"_blank/\">[ 4 ]</a>. Setting environmet jupyter notebook\n",
    "* <a href=\"https://towardsdatascience.com/bringing-the-best-out-of-jupyter-notebooks-for-data-science-f0871519ca29\" target=\"_blank/\">[ 5 ]</a>. bringing the best out of jupyter notebooks fordata-science"
   ]
  },
  {
   "cell_type": "code",
   "execution_count": null,
   "metadata": {
    "hidden": true
   },
   "outputs": [],
   "source": []
  }
 ],
 "metadata": {
  "kernelspec": {
   "display_name": "Python 3",
   "language": "python",
   "name": "python3"
  },
  "language_info": {
   "codemirror_mode": {
    "name": "ipython",
    "version": 3
   },
   "file_extension": ".py",
   "mimetype": "text/x-python",
   "name": "python",
   "nbconvert_exporter": "python",
   "pygments_lexer": "ipython3",
   "version": "3.7.2"
  },
  "toc": {
   "base_numbering": 1,
   "nav_menu": {
    "height": "72px",
    "width": "160px"
   },
   "number_sections": false,
   "sideBar": true,
   "skip_h1_title": true,
   "title_cell": "Table of Contents",
   "title_sidebar": "Contents",
   "toc_cell": false,
   "toc_position": {
    "height": "calc(100% - 180px)",
    "left": "10px",
    "top": "150px",
    "width": "322px"
   },
   "toc_section_display": true,
   "toc_window_display": true
  }
 },
 "nbformat": 4,
 "nbformat_minor": 2
}

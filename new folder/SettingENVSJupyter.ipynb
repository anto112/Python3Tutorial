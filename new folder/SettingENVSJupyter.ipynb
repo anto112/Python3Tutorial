{
 "cells": [
  {
   "cell_type": "markdown",
   "metadata": {},
   "source": [
    "# <h1><center>Setting Envs Jupyter Notebook</center></h1>"
   ]
  },
  {
   "cell_type": "markdown",
   "metadata": {},
   "source": [
    "## Jupyter Themes"
   ]
  },
  {
   "cell_type": "markdown",
   "metadata": {},
   "source": [
    "If you are a person who gets bored while staring at the white background of the Jupyter notebook, themes are just for you\n",
    "* Installation == `pip install jupyterthemes`\n",
    "* List of available themes == `jt -l`\n",
    "* selecting a particular theme == `jt -t (name of the theme)`\n",
    "* reverting to original Theme == `jt -r`"
   ]
  },
  {
   "cell_type": "markdown",
   "metadata": {},
   "source": [
    "## Notebook Extensions"
   ]
  },
  {
   "cell_type": "markdown",
   "metadata": {},
   "source": [
    "Notebook extensions let you move beyond the general vanilla way of using the Jupyter Notebooks. Notebook _extensions_ (or nbextensions) are JavaScript modules that you can load on most of the views in your Notebook’s frontend.\n",
    "Installation == `pip install jupyter_contrib_nbextensions && jupyter contrib nbextension install`\n",
    "\n",
    "Here is the page for setting extention in notebook :"
   ]
  },
  {
   "cell_type": "markdown",
   "metadata": {
    "hide_input": false,
    "scrolled": false
   },
   "source": [
    "<img src='extension.png'>"
   ]
  },
  {
   "cell_type": "markdown",
   "metadata": {
    "hide_input": false,
    "scrolled": false
   },
   "source": [
    "<img src='configex.png'>"
   ]
  },
  {
   "cell_type": "markdown",
   "metadata": {},
   "source": [
    "Some of the **useful extension** :\n",
    "* Hinterland\n",
    "* Snippets\n",
    "* Split Cells Notebook\n",
    "* Table of Contents\n",
    "* Collapsible Headings\n",
    "* Autopep8"
   ]
  },
  {
   "cell_type": "markdown",
   "metadata": {},
   "source": [
    "## Jupyter Widgets"
   ]
  },
  {
   "cell_type": "markdown",
   "metadata": {},
   "source": [
    "**Widgets** are eventful python objects that have a representation in the browser, often as a control like a _slider_, _textbox_, _etc_. Widgets can be used to build interactive GUIs for the notebooks. \n",
    "* Installation == ``pip install ipywidgets == jupyter nbextension enable --py widgetsnbextension``\n",
    "* Interact Start with some imports! == ``from ipywidgets import interact == import ipywidgets as widgets``"
   ]
  },
  {
   "cell_type": "markdown",
   "metadata": {},
   "source": [
    "## Qgrid"
   ]
  },
  {
   "cell_type": "markdown",
   "metadata": {},
   "source": [
    "**Qgrid** is also a Jupyter notebook widget but mainly focussed at _dataframes_. It uses `SlickGrid` to render pandas DataFrames within a Jupyter notebook. This allows you to explore your DataFrames with intuitive scrolling, sorting and filtering controls, as well as edit your DataFrames by double-clicking cells\n",
    "* Installation == `jupyter nbextension enable --py --sys-prefix qgrid`"
   ]
  },
  {
   "cell_type": "markdown",
   "metadata": {},
   "source": [
    "## Slideshow"
   ]
  },
  {
   "cell_type": "markdown",
   "metadata": {},
   "source": [
    "Using the RISE plugin \n",
    "* Installation == `pip install RISE `\n",
    "\n",
    "Then two more steps to install the JS and CSS in the proper places: \n",
    "* == `jupyter-nbextension install rise --py --sys-prefix`\n",
    "* Enable the nbextension == `jupyter-nbextension enable rise --py --sys-prefix`"
   ]
  },
  {
   "cell_type": "markdown",
   "metadata": {},
   "source": [
    "## Embedding URLs, PDFs, and Youtube Videos"
   ]
  },
  {
   "cell_type": "markdown",
   "metadata": {},
   "source": [
    "from IPython.display import IFrame \n",
    "IFrame ('https://www.tutorialspoint.com/python3/',width =1000, height=550)"
   ]
  },
  {
   "cell_type": "markdown",
   "metadata": {},
   "source": [
    "<a href=\"https://www.tutorialspoint.com/python3/\" target=\"_blank\">Klik This</a>. "
   ]
  },
  {
   "cell_type": "markdown",
   "metadata": {},
   "source": [
    "**Happy Learn Jupyter !!!!**"
   ]
  },
  {
   "cell_type": "markdown",
   "metadata": {},
   "source": [
    "## Reference\n",
    "* <a href=https://www.earthdatascience.org/courses/earth-analytics-bootcamp/git-github-version-control/markdown-jupyter-notebook/>www.earthdatascience.org</a>\n",
    "* <a href=https://towardsdatascience.com/bringing-the-best-out-of-jupyter-notebooks-for-data-science-f0871519ca29>towardsdatascience.com</a> "
   ]
  },
  {
   "cell_type": "code",
   "execution_count": null,
   "metadata": {},
   "outputs": [],
   "source": []
  }
 ],
 "metadata": {
  "kernelspec": {
   "display_name": "Python 3",
   "language": "python",
   "name": "python3"
  },
  "language_info": {
   "codemirror_mode": {
    "name": "ipython",
    "version": 3
   },
   "file_extension": ".py",
   "mimetype": "text/x-python",
   "name": "python",
   "nbconvert_exporter": "python",
   "pygments_lexer": "ipython3",
   "version": "3.7.2"
  },
  "toc": {
   "base_numbering": 1,
   "nav_menu": {},
   "number_sections": false,
   "sideBar": true,
   "skip_h1_title": true,
   "title_cell": "Table of Contents",
   "title_sidebar": "Contents",
   "toc_cell": false,
   "toc_position": {},
   "toc_section_display": true,
   "toc_window_display": false
  }
 },
 "nbformat": 4,
 "nbformat_minor": 2
}

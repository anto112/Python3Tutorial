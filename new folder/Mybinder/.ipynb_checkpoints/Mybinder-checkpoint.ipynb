{
 "cells": [
  {
   "cell_type": "markdown",
   "metadata": {
    "slideshow": {
     "slide_type": "slide"
    }
   },
   "source": [
    "<font color='red'><h1><center>MyBinder</center></h1></font>"
   ]
  },
  {
   "cell_type": "markdown",
   "metadata": {
    "slideshow": {
     "slide_type": "slide"
    }
   },
   "source": [
    "Binder allows you to <font color =\"green\">*create custom computing environments*</font> that can be shared and used by many remote users. It is powered by BinderHub, which is an open-source tool that deploys the Binder service in the cloud. \n",
    "\n",
    "<center><img src='Howitwork.PNG'></center>\n",
    "<center>Figure 1. How MyBinder Work</center>"
   ]
  },
  {
   "cell_type": "markdown",
   "metadata": {
    "slideshow": {
     "slide_type": "slide"
    }
   },
   "source": [
    "<center><h1>Common usage patterns in Binder</h1></center>\n",
    "\n",
    "* **Creating live demonstrations** \n",
    "<br>Binder is useful if you want to interactively demonstrate something to a group of people, and would like them to immediately interact with the material as well.\n",
    "\n",
    "* **Share computational work or papers**\n",
    "<br>Another common use for Binder is to use Binder to quickly show off your data science work. For example, if you’d like to share some analyses and visualizations on a dataset of interest. In this case, it is common to “prepare” your Binder repository for the analysis\n"
   ]
  },
  {
   "cell_type": "markdown",
   "metadata": {
    "slideshow": {
     "slide_type": "subslide"
    }
   },
   "source": [
    "* **Sharing course content and educational material**\n",
    "<br>Binder gives users quick, interactive experiences with computational material that you provide. This can be useful in a teaching context, where you’d like students to quickly dive-in to the work you are covering.\n",
    "\n",
    "* **Generating interactive open-source package documentation**\n",
    "<br>Binder is a useful resource for those who are developing packages in an open source language such as Python, Julia, or R. It’s important to give users the ability to quickly interact with features, APIs, and tutorials that teach people how (and why) to use a package.\n"
   ]
  },
  {
   "cell_type": "markdown",
   "metadata": {
    "slideshow": {
     "slide_type": "slide"
    }
   },
   "source": [
    "<center><h1>Choose languages for your environment</h1></center>\n",
    "    <br>You can define many different languages in your configuration files. This page describes how to use some of the more common ones.\n",
    "    \n",
    "* Python\n",
    "* R Language\n",
    "* Julia\n",
    "\n",
    "<br>It may also be possible to combine multiple languages in a single environment. The details on how to accomplish this with all possible combinations are outside the scope of this guide. However we recommend that you take a look at the Multi-Language Demo repository for some inspiration."
   ]
  }
 ],
 "metadata": {
  "celltoolbar": "Slideshow",
  "kernelspec": {
   "display_name": "Python 3",
   "language": "python",
   "name": "python3"
  },
  "language_info": {
   "codemirror_mode": {
    "name": "ipython",
    "version": 3
   },
   "file_extension": ".py",
   "mimetype": "text/x-python",
   "name": "python",
   "nbconvert_exporter": "python",
   "pygments_lexer": "ipython3",
   "version": "3.7.2"
  },
  "toc": {
   "base_numbering": "",
   "nav_menu": {},
   "number_sections": false,
   "sideBar": true,
   "skip_h1_title": false,
   "title_cell": "Table of Contents",
   "title_sidebar": "Contents",
   "toc_cell": false,
   "toc_position": {},
   "toc_section_display": true,
   "toc_window_display": false
  }
 },
 "nbformat": 4,
 "nbformat_minor": 2
}
